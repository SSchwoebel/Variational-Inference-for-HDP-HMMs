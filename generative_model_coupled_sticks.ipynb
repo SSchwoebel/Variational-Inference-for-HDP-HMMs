{
 "cells": [
  {
   "cell_type": "markdown",
   "metadata": {},
   "source": [
    "#### This file implements the classic coupled sticks instantiation of the HDP-HMM (Teh's construction)"
   ]
  },
  {
   "cell_type": "code",
   "execution_count": 1,
   "metadata": {},
   "outputs": [],
   "source": [
    "import pyro\n",
    "import torch\n",
    "import pyro.distributions as dist\n",
    "import pyro.poutine as poutine\n",
    "from pyro.infer import MCMC, NUTS\n",
    "\n",
    "import sys"
   ]
  },
  {
   "cell_type": "code",
   "execution_count": 2,
   "metadata": {},
   "outputs": [],
   "source": [
    "sys.path.append('code')\n",
    "\n",
    "from generative_process import HMM"
   ]
  },
  {
   "cell_type": "code",
   "execution_count": 3,
   "metadata": {},
   "outputs": [],
   "source": [
    "def model(T, ncat=10, gamma_init=1, alpha_init=1, alpha_0_init=1, state_prior = None):\n",
    "\n",
    "    # gamma1 only for learning, always set to 1 in the HDP literature\n",
    "    gamma1 = pyro.param(\"gamma1\", torch.ones((ncat)), constraint=dist.constraints.positive)\n",
    "\n",
    "    # gamma2 corresponds to gamma in the HDP literature\n",
    "    gamma2 = pyro.param(\"gamma2\", torch.ones((ncat))*gamma_init, constraint=dist.constraints.positive)\n",
    "\n",
    "    # alpha are the parameters from which the atoms phi are drawn\n",
    "    alpha = pyro.param(\"alpha\", torch.ones((ncat, ncat))*alpha_init, constraint=dist.constraints.positive)\n",
    "\n",
    "    # alpha_0 parameterizes pi\n",
    "    alpha_0_1 = pyro.param(\"alpha_0_1\", torch.ones((ncat))*alpha_0_init, constraint=dist.constraints.positive)\n",
    "    alpha_0_2 = pyro.param(\"alpha_0_2\", torch.ones((ncat))*alpha_0_init, constraint=dist.constraints.positive)\n",
    "\n",
    "    # set prior over states to either input value\n",
    "    if state_prior is not None:\n",
    "        prior_states = pyro.param(\"prior_states\", torch.tensor(state_prior), constraint=dist.constraints.interval(0,1))\n",
    "    # or make uniform\n",
    "    else:\n",
    "        prior_states = pyro.param(\"prior_states\", torch.ones((ncat))/ncat, constraint=dist.constraints.interval(0,1))\n",
    "\n",
    "\n",
    "    # draw atoms phi\n",
    "    phi = pyro.sample(\"phi\", dist.Dirichlet(alpha))\n",
    "\n",
    "    # draw beta_primes\n",
    "    beta_prime = pyro.sample(\"beta_prime\", dist.Beta(gamma1, gamma2))\n",
    "\n",
    "    # construct betas\n",
    "    beta = torch.tensor([beta_prime[k]*torch.prod(1-beta_prime[0:k]) for k in range(ncat)])\n",
    "\n",
    "    # construct pi_primes\n",
    "    exponent1 = alpha_0_1 * beta\n",
    "    # print(\"beta\")\n",
    "    # print(beta)\n",
    "    # note to self: check whether sum is l<k or l>k\n",
    "    sum_betas = torch.tensor([0.] + [(beta[0:k]).sum() for k in range(1,ncat)])\n",
    "    exponent2 = alpha_0_2 * torch.tensor([1 - (beta[0:k]).sum() for k in range(ncat)])\n",
    "    # print(\"sum beta\")\n",
    "    # print(torch.tensor([(beta[0:k]).sum() for k in range(ncat)]))\n",
    "    # print(\"1-sum beta\")\n",
    "    # print(torch.tensor([1 - (beta[0:k]).sum() for k in range(ncat)]))\n",
    "\n",
    "    pi_prime = []\n",
    "    pi = []\n",
    "    for j in range(ncat):\n",
    "        pi_prime.append(pyro.sample(\"pi_prime_\"+str(j), dist.Beta(exponent1, exponent2)))\n",
    "\n",
    "        pi.append(torch.tensor([pi_prime[-1][k]*torch.prod(1-pi_prime[-1][0:k-1]) for k in range(ncat)]))\n",
    "\n",
    "\n",
    "    # start the HMM\n",
    "    # init its variables and probs\n",
    "    prob_states = []\n",
    "    states = []\n",
    "    prob_observations = []\n",
    "    observations = []\n",
    "\n",
    "    # first state!\n",
    "    prob_states.append(prior_states)\n",
    "    # print(\"prob states 0\")\n",
    "    # print(prob_states[-1])\n",
    "    states.append(pyro.sample(\"state_0\", dist.Categorical(probs=prob_states[-1])))\n",
    "    # print(\"state 0\")\n",
    "    # print(states[-1])\n",
    "\n",
    "    # first observation\n",
    "    # print(\"phi\")\n",
    "    # print(phi[:,states[-1]])\n",
    "    prob_observations.append(phi[:,states[-1]])\n",
    "    # print(\"prob observations 0\")\n",
    "    # print(prob_observations[-1])\n",
    "    observations.append(pyro.sample(\"observation_0\", dist.Categorical(probs=prob_observations[-1])))\n",
    "\n",
    "    for t in range(1,T):\n",
    "\n",
    "        # transition state\n",
    "        prob_states.append(pi[states[-1]])\n",
    "        # print(\"trans matrix\")\n",
    "        # print(pi)\n",
    "        # print(\"trans vector\")\n",
    "        # print(pi[states[-1]])\n",
    "        # print(\"prob states \"+str(t))\n",
    "        # print(prob_states[-1])\n",
    "        # generate state\n",
    "        states.append(pyro.sample(\"state_\"+str(t), dist.Categorical(probs=prob_states[-1])))\n",
    "        print(\"state \"+str(t))\n",
    "        print(states[-1])\n",
    "\n",
    "        # observation prob\n",
    "        prob_observations.append(phi[:,states[-1]])\n",
    "        observations.append(pyro.sample(\"observation_\"+str(t), dist.Categorical(probs=prob_observations[-1])))\n",
    "\n",
    "        return observations\n"
   ]
  },
  {
   "cell_type": "code",
   "execution_count": 4,
   "metadata": {},
   "outputs": [],
   "source": [
    "# make data!\n",
    "\n",
    "ns = 5\n",
    "no = ns\n",
    "\n",
    "# observations are either the state itself or its neighbors with lower probabilities\n",
    "\n",
    "phi = torch.tensor([[0.70, 0.15, 0.00, 0.00, 0.15],\n",
    "                    [0.15, 0.70, 0.15, 0.00, 0.00],\n",
    "                    [0.00, 0.15, 0.70, 0.15, 0.00],\n",
    "                    [0.00, 0.00, 0.15, 0.70, 0.15],\n",
    "                    [0.15, 0.00, 0.00, 0.15, 0.70]])\n",
    "\n",
    "pi = torch.tensor( [[0.40, 0.60, 0.00, 0.00, 0.00],\n",
    "                    [0.00, 0.40, 0.60, 0.00, 0.00],\n",
    "                    [0.00, 0.00, 0.40, 0.60, 0.00],\n",
    "                    [0.00, 0.00, 0.00, 0.40, 0.60],\n",
    "                    [0.60, 0.00, 0.00, 0.00, 0.40]])\n",
    "\n",
    "prior_states = torch.tensor([0.10, 0.00, 0.00, 0.00, 0.00])"
   ]
  },
  {
   "cell_type": "code",
   "execution_count": 5,
   "metadata": {},
   "outputs": [],
   "source": [
    "flow = HMM()\n",
    "\n",
    "flow.set_parameters(pi, phi, prior_states)\n",
    "\n",
    "T = 10\n",
    "\n",
    "flow.simulate_timeseries(T)"
   ]
  },
  {
   "cell_type": "code",
   "execution_count": 6,
   "metadata": {},
   "outputs": [],
   "source": [
    "data_dict = {}\n",
    "for t in range(T):\n",
    "    data_dict[\"observation_\"+str(t)] = torch.tensor(flow.observations)[t]\n",
    "\n",
    "def conditioned_model(T):\n",
    "    print(\"i am condition\")\n",
    "    return poutine.condition(model, data=data_dict)(T)"
   ]
  },
  {
   "cell_type": "code",
   "execution_count": 7,
   "metadata": {},
   "outputs": [
    {
     "data": {
      "application/vnd.jupyter.widget-view+json": {
       "model_id": "3e69613a57d144f0ad054f0f05b1496f",
       "version_major": 2,
       "version_minor": 0
      },
      "text/plain": [
       "Warmup [1]:   0%|          | 0/120 [00:00, ?it/s]"
      ]
     },
     "metadata": {},
     "output_type": "display_data"
    },
    {
     "data": {
      "application/vnd.jupyter.widget-view+json": {
       "model_id": "b8cda587061342c7b4829755dee19738",
       "version_major": 2,
       "version_minor": 0
      },
      "text/plain": [
       "Warmup [2]:   0%|          | 0/120 [00:00, ?it/s]"
      ]
     },
     "metadata": {},
     "output_type": "display_data"
    },
    {
     "ename": "KeyboardInterrupt",
     "evalue": "",
     "output_type": "error",
     "traceback": [
      "\u001b[1;31m---------------------------------------------------------------------------\u001b[0m",
      "\u001b[1;31mKeyboardInterrupt\u001b[0m                         Traceback (most recent call last)",
      "Cell \u001b[1;32mIn[7], line 13\u001b[0m\n\u001b[0;32m      6\u001b[0m nuts_kernel \u001b[38;5;241m=\u001b[39m NUTS(conditioned_model)\n\u001b[0;32m      7\u001b[0m mcmc \u001b[38;5;241m=\u001b[39m MCMC(\n\u001b[0;32m      8\u001b[0m     nuts_kernel,\n\u001b[0;32m      9\u001b[0m     num_samples\u001b[38;5;241m=\u001b[39mnum_samples,\n\u001b[0;32m     10\u001b[0m     warmup_steps\u001b[38;5;241m=\u001b[39mwarmup_steps,\n\u001b[0;32m     11\u001b[0m     num_chains\u001b[38;5;241m=\u001b[39mnum_chains,\n\u001b[0;32m     12\u001b[0m )\n\u001b[1;32m---> 13\u001b[0m \u001b[43mmcmc\u001b[49m\u001b[38;5;241;43m.\u001b[39;49m\u001b[43mrun\u001b[49m\u001b[43m(\u001b[49m\u001b[43mmodel\u001b[49m\u001b[43m,\u001b[49m\u001b[43m \u001b[49m\u001b[43mT\u001b[49m\u001b[43m,\u001b[49m\u001b[43m \u001b[49m\u001b[43mdata_dict\u001b[49m\u001b[43m)\u001b[49m\n\u001b[0;32m     14\u001b[0m mcmc\u001b[38;5;241m.\u001b[39msummary(prob\u001b[38;5;241m=\u001b[39m\u001b[38;5;241m0.5\u001b[39m)\n",
      "File \u001b[1;32mc:\\Users\\sarah\\miniforge3\\envs\\VarInf_HDP-HMMs\\Lib\\site-packages\\pyro\\poutine\\messenger.py:32\u001b[0m, in \u001b[0;36m_context_wrap\u001b[1;34m(context, fn, *args, **kwargs)\u001b[0m\n\u001b[0;32m     25\u001b[0m \u001b[38;5;28;01mdef\u001b[39;00m \u001b[38;5;21m_context_wrap\u001b[39m(\n\u001b[0;32m     26\u001b[0m     context: \u001b[38;5;124m\"\u001b[39m\u001b[38;5;124mMessenger\u001b[39m\u001b[38;5;124m\"\u001b[39m,\n\u001b[0;32m     27\u001b[0m     fn: Callable,\n\u001b[0;32m     28\u001b[0m     \u001b[38;5;241m*\u001b[39margs: Any,\n\u001b[0;32m     29\u001b[0m     \u001b[38;5;241m*\u001b[39m\u001b[38;5;241m*\u001b[39mkwargs: Any,\n\u001b[0;32m     30\u001b[0m ) \u001b[38;5;241m-\u001b[39m\u001b[38;5;241m>\u001b[39m Any:\n\u001b[0;32m     31\u001b[0m     \u001b[38;5;28;01mwith\u001b[39;00m context:\n\u001b[1;32m---> 32\u001b[0m         \u001b[38;5;28;01mreturn\u001b[39;00m \u001b[43mfn\u001b[49m\u001b[43m(\u001b[49m\u001b[38;5;241;43m*\u001b[39;49m\u001b[43margs\u001b[49m\u001b[43m,\u001b[49m\u001b[43m \u001b[49m\u001b[38;5;241;43m*\u001b[39;49m\u001b[38;5;241;43m*\u001b[39;49m\u001b[43mkwargs\u001b[49m\u001b[43m)\u001b[49m\n",
      "File \u001b[1;32mc:\\Users\\sarah\\miniforge3\\envs\\VarInf_HDP-HMMs\\Lib\\site-packages\\pyro\\infer\\mcmc\\api.py:565\u001b[0m, in \u001b[0;36mMCMC.run\u001b[1;34m(self, *args, **kwargs)\u001b[0m\n\u001b[0;32m    556\u001b[0m \u001b[38;5;28;01mwith\u001b[39;00m optional(\n\u001b[0;32m    557\u001b[0m     pyro\u001b[38;5;241m.\u001b[39mvalidation_enabled(\u001b[38;5;129;01mnot\u001b[39;00m \u001b[38;5;28mself\u001b[39m\u001b[38;5;241m.\u001b[39mdisable_validation),\n\u001b[0;32m    558\u001b[0m     \u001b[38;5;28mself\u001b[39m\u001b[38;5;241m.\u001b[39mdisable_validation \u001b[38;5;129;01mis\u001b[39;00m \u001b[38;5;129;01mnot\u001b[39;00m \u001b[38;5;28;01mNone\u001b[39;00m,\n\u001b[1;32m   (...)\u001b[0m\n\u001b[0;32m    562\u001b[0m     \u001b[38;5;66;03m# This also resolves \"RuntimeError: Cowardly refusing to serialize non-leaf tensor which\u001b[39;00m\n\u001b[0;32m    563\u001b[0m     \u001b[38;5;66;03m# requires_grad\", which happens with `jit_compile` under PyTorch 1.7\u001b[39;00m\n\u001b[0;32m    564\u001b[0m     args \u001b[38;5;241m=\u001b[39m [arg\u001b[38;5;241m.\u001b[39mdetach() \u001b[38;5;28;01mif\u001b[39;00m torch\u001b[38;5;241m.\u001b[39mis_tensor(arg) \u001b[38;5;28;01melse\u001b[39;00m arg \u001b[38;5;28;01mfor\u001b[39;00m arg \u001b[38;5;129;01min\u001b[39;00m args]\n\u001b[1;32m--> 565\u001b[0m \u001b[43m    \u001b[49m\u001b[38;5;28;43;01mfor\u001b[39;49;00m\u001b[43m \u001b[49m\u001b[43mx\u001b[49m\u001b[43m,\u001b[49m\u001b[43m \u001b[49m\u001b[43mchain_id\u001b[49m\u001b[43m \u001b[49m\u001b[38;5;129;43;01min\u001b[39;49;00m\u001b[43m \u001b[49m\u001b[38;5;28;43mself\u001b[39;49m\u001b[38;5;241;43m.\u001b[39;49m\u001b[43msampler\u001b[49m\u001b[38;5;241;43m.\u001b[39;49m\u001b[43mrun\u001b[49m\u001b[43m(\u001b[49m\u001b[38;5;241;43m*\u001b[39;49m\u001b[43margs\u001b[49m\u001b[43m,\u001b[49m\u001b[43m \u001b[49m\u001b[38;5;241;43m*\u001b[39;49m\u001b[38;5;241;43m*\u001b[39;49m\u001b[43mkwargs\u001b[49m\u001b[43m)\u001b[49m\u001b[43m:\u001b[49m\n\u001b[0;32m    566\u001b[0m \u001b[43m        \u001b[49m\u001b[38;5;28;43;01mif\u001b[39;49;00m\u001b[43m \u001b[49m\u001b[43mnum_samples\u001b[49m\u001b[43m[\u001b[49m\u001b[43mchain_id\u001b[49m\u001b[43m]\u001b[49m\u001b[43m \u001b[49m\u001b[38;5;241;43m==\u001b[39;49m\u001b[43m \u001b[49m\u001b[38;5;241;43m0\u001b[39;49m\u001b[43m:\u001b[49m\n\u001b[0;32m    567\u001b[0m \u001b[43m            \u001b[49m\u001b[43mnum_samples\u001b[49m\u001b[43m[\u001b[49m\u001b[43mchain_id\u001b[49m\u001b[43m]\u001b[49m\u001b[43m \u001b[49m\u001b[38;5;241;43m+\u001b[39;49m\u001b[38;5;241;43m=\u001b[39;49m\u001b[43m \u001b[49m\u001b[38;5;241;43m1\u001b[39;49m\n",
      "File \u001b[1;32mc:\\Users\\sarah\\miniforge3\\envs\\VarInf_HDP-HMMs\\Lib\\site-packages\\pyro\\infer\\mcmc\\api.py:338\u001b[0m, in \u001b[0;36m_MultiSampler.run\u001b[1;34m(self, *args, **kwargs)\u001b[0m\n\u001b[0;32m    336\u001b[0m \u001b[38;5;28;01mwhile\u001b[39;00m active_workers:\n\u001b[0;32m    337\u001b[0m     \u001b[38;5;28;01mtry\u001b[39;00m:\n\u001b[1;32m--> 338\u001b[0m         chain_id, val \u001b[38;5;241m=\u001b[39m \u001b[38;5;28;43mself\u001b[39;49m\u001b[38;5;241;43m.\u001b[39;49m\u001b[43mresult_queue\u001b[49m\u001b[38;5;241;43m.\u001b[39;49m\u001b[43mget\u001b[49m\u001b[43m(\u001b[49m\u001b[43mtimeout\u001b[49m\u001b[38;5;241;43m=\u001b[39;49m\u001b[38;5;241;43m5\u001b[39;49m\u001b[43m)\u001b[49m\n\u001b[0;32m    339\u001b[0m     \u001b[38;5;28;01mexcept\u001b[39;00m queue\u001b[38;5;241m.\u001b[39mEmpty:\n\u001b[0;32m    340\u001b[0m         \u001b[38;5;28;01mcontinue\u001b[39;00m\n",
      "File \u001b[1;32mc:\\Users\\sarah\\miniforge3\\envs\\VarInf_HDP-HMMs\\Lib\\multiprocessing\\queues.py:113\u001b[0m, in \u001b[0;36mQueue.get\u001b[1;34m(self, block, timeout)\u001b[0m\n\u001b[0;32m    111\u001b[0m \u001b[38;5;28;01mif\u001b[39;00m block:\n\u001b[0;32m    112\u001b[0m     timeout \u001b[38;5;241m=\u001b[39m deadline \u001b[38;5;241m-\u001b[39m time\u001b[38;5;241m.\u001b[39mmonotonic()\n\u001b[1;32m--> 113\u001b[0m     \u001b[38;5;28;01mif\u001b[39;00m \u001b[38;5;129;01mnot\u001b[39;00m \u001b[38;5;28;43mself\u001b[39;49m\u001b[38;5;241;43m.\u001b[39;49m\u001b[43m_poll\u001b[49m\u001b[43m(\u001b[49m\u001b[43mtimeout\u001b[49m\u001b[43m)\u001b[49m:\n\u001b[0;32m    114\u001b[0m         \u001b[38;5;28;01mraise\u001b[39;00m Empty\n\u001b[0;32m    115\u001b[0m \u001b[38;5;28;01melif\u001b[39;00m \u001b[38;5;129;01mnot\u001b[39;00m \u001b[38;5;28mself\u001b[39m\u001b[38;5;241m.\u001b[39m_poll():\n",
      "File \u001b[1;32mc:\\Users\\sarah\\miniforge3\\envs\\VarInf_HDP-HMMs\\Lib\\multiprocessing\\connection.py:257\u001b[0m, in \u001b[0;36m_ConnectionBase.poll\u001b[1;34m(self, timeout)\u001b[0m\n\u001b[0;32m    255\u001b[0m \u001b[38;5;28mself\u001b[39m\u001b[38;5;241m.\u001b[39m_check_closed()\n\u001b[0;32m    256\u001b[0m \u001b[38;5;28mself\u001b[39m\u001b[38;5;241m.\u001b[39m_check_readable()\n\u001b[1;32m--> 257\u001b[0m \u001b[38;5;28;01mreturn\u001b[39;00m \u001b[38;5;28;43mself\u001b[39;49m\u001b[38;5;241;43m.\u001b[39;49m\u001b[43m_poll\u001b[49m\u001b[43m(\u001b[49m\u001b[43mtimeout\u001b[49m\u001b[43m)\u001b[49m\n",
      "File \u001b[1;32mc:\\Users\\sarah\\miniforge3\\envs\\VarInf_HDP-HMMs\\Lib\\multiprocessing\\connection.py:346\u001b[0m, in \u001b[0;36mPipeConnection._poll\u001b[1;34m(self, timeout)\u001b[0m\n\u001b[0;32m    343\u001b[0m \u001b[38;5;28;01mif\u001b[39;00m (\u001b[38;5;28mself\u001b[39m\u001b[38;5;241m.\u001b[39m_got_empty_message \u001b[38;5;129;01mor\u001b[39;00m\n\u001b[0;32m    344\u001b[0m             _winapi\u001b[38;5;241m.\u001b[39mPeekNamedPipe(\u001b[38;5;28mself\u001b[39m\u001b[38;5;241m.\u001b[39m_handle)[\u001b[38;5;241m0\u001b[39m] \u001b[38;5;241m!=\u001b[39m \u001b[38;5;241m0\u001b[39m):\n\u001b[0;32m    345\u001b[0m     \u001b[38;5;28;01mreturn\u001b[39;00m \u001b[38;5;28;01mTrue\u001b[39;00m\n\u001b[1;32m--> 346\u001b[0m \u001b[38;5;28;01mreturn\u001b[39;00m \u001b[38;5;28mbool\u001b[39m(\u001b[43mwait\u001b[49m\u001b[43m(\u001b[49m\u001b[43m[\u001b[49m\u001b[38;5;28;43mself\u001b[39;49m\u001b[43m]\u001b[49m\u001b[43m,\u001b[49m\u001b[43m \u001b[49m\u001b[43mtimeout\u001b[49m\u001b[43m)\u001b[49m)\n",
      "File \u001b[1;32mc:\\Users\\sarah\\miniforge3\\envs\\VarInf_HDP-HMMs\\Lib\\multiprocessing\\connection.py:1084\u001b[0m, in \u001b[0;36mwait\u001b[1;34m(object_list, timeout)\u001b[0m\n\u001b[0;32m   1081\u001b[0m                 ready_objects\u001b[38;5;241m.\u001b[39madd(o)\n\u001b[0;32m   1082\u001b[0m                 timeout \u001b[38;5;241m=\u001b[39m \u001b[38;5;241m0\u001b[39m\n\u001b[1;32m-> 1084\u001b[0m     ready_handles \u001b[38;5;241m=\u001b[39m \u001b[43m_exhaustive_wait\u001b[49m\u001b[43m(\u001b[49m\u001b[43mwaithandle_to_obj\u001b[49m\u001b[38;5;241;43m.\u001b[39;49m\u001b[43mkeys\u001b[49m\u001b[43m(\u001b[49m\u001b[43m)\u001b[49m\u001b[43m,\u001b[49m\u001b[43m \u001b[49m\u001b[43mtimeout\u001b[49m\u001b[43m)\u001b[49m\n\u001b[0;32m   1085\u001b[0m \u001b[38;5;28;01mfinally\u001b[39;00m:\n\u001b[0;32m   1086\u001b[0m     \u001b[38;5;66;03m# request that overlapped reads stop\u001b[39;00m\n\u001b[0;32m   1087\u001b[0m     \u001b[38;5;28;01mfor\u001b[39;00m ov \u001b[38;5;129;01min\u001b[39;00m ov_list:\n",
      "File \u001b[1;32mc:\\Users\\sarah\\miniforge3\\envs\\VarInf_HDP-HMMs\\Lib\\multiprocessing\\connection.py:1016\u001b[0m, in \u001b[0;36m_exhaustive_wait\u001b[1;34m(handles, timeout)\u001b[0m\n\u001b[0;32m   1014\u001b[0m ready \u001b[38;5;241m=\u001b[39m []\n\u001b[0;32m   1015\u001b[0m \u001b[38;5;28;01mwhile\u001b[39;00m L:\n\u001b[1;32m-> 1016\u001b[0m     res \u001b[38;5;241m=\u001b[39m \u001b[43m_winapi\u001b[49m\u001b[38;5;241;43m.\u001b[39;49m\u001b[43mWaitForMultipleObjects\u001b[49m\u001b[43m(\u001b[49m\u001b[43mL\u001b[49m\u001b[43m,\u001b[49m\u001b[43m \u001b[49m\u001b[38;5;28;43;01mFalse\u001b[39;49;00m\u001b[43m,\u001b[49m\u001b[43m \u001b[49m\u001b[43mtimeout\u001b[49m\u001b[43m)\u001b[49m\n\u001b[0;32m   1017\u001b[0m     \u001b[38;5;28;01mif\u001b[39;00m res \u001b[38;5;241m==\u001b[39m WAIT_TIMEOUT:\n\u001b[0;32m   1018\u001b[0m         \u001b[38;5;28;01mbreak\u001b[39;00m\n",
      "\u001b[1;31mKeyboardInterrupt\u001b[0m: "
     ]
    }
   ],
   "source": [
    "num_samples = 100\n",
    "warmup_steps = 20\n",
    "num_chains = 2\n",
    "\n",
    "# see https://pyro.ai/examples/mcmc.html\n",
    "nuts_kernel = NUTS(conditioned_model)\n",
    "mcmc = MCMC(\n",
    "    nuts_kernel,\n",
    "    num_samples=num_samples,\n",
    "    warmup_steps=warmup_steps,\n",
    "    num_chains=num_chains,\n",
    ")\n",
    "mcmc.run(model, T, data_dict)\n",
    "mcmc.summary(prob=0.5)"
   ]
  },
  {
   "cell_type": "code",
   "execution_count": null,
   "metadata": {},
   "outputs": [],
   "source": []
  }
 ],
 "metadata": {
  "kernelspec": {
   "display_name": "Python 3",
   "language": "python",
   "name": "python3"
  },
  "language_info": {
   "codemirror_mode": {
    "name": "ipython",
    "version": 3
   },
   "file_extension": ".py",
   "mimetype": "text/x-python",
   "name": "python",
   "nbconvert_exporter": "python",
   "pygments_lexer": "ipython3",
   "version": "3.12.7"
  }
 },
 "nbformat": 4,
 "nbformat_minor": 2
}
